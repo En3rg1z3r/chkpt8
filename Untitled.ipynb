{
 "cells": [
  {
   "cell_type": "code",
   "execution_count": 4,
   "id": "active-granny",
   "metadata": {},
   "outputs": [],
   "source": [
    "import pandas as pd\n",
    "import numpy as np\n",
    "import matplotlib.pyplot as plt\n",
    "import seaborn as sns\n",
    "from sklearn.preprocessing import StandardScaler, normalize\n",
    "from sklearn.decomposition import PCA\n",
    "from sklearn.cluster import AgglomerativeClustering \n",
    "import scipy.cluster.hierarchy as sch"
   ]
  },
  {
   "cell_type": "code",
   "execution_count": 11,
   "id": "ahead-leonard",
   "metadata": {},
   "outputs": [
    {
     "name": "stdout",
     "output_type": "stream",
     "text": [
      "<class 'pandas.core.frame.DataFrame'>\n",
      "RangeIndex: 8950 entries, 0 to 8949\n",
      "Data columns (total 17 columns):\n",
      " #   Column                            Non-Null Count  Dtype  \n",
      "---  ------                            --------------  -----  \n",
      " 0   BALANCE                           8950 non-null   float64\n",
      " 1   BALANCE_FREQUENCY                 8950 non-null   float64\n",
      " 2   PURCHASES                         8950 non-null   float64\n",
      " 3   ONEOFF_PURCHASES                  8950 non-null   float64\n",
      " 4   INSTALLMENTS_PURCHASES            8950 non-null   float64\n",
      " 5   CASH_ADVANCE                      8950 non-null   float64\n",
      " 6   PURCHASES_FREQUENCY               8950 non-null   float64\n",
      " 7   ONEOFF_PURCHASES_FREQUENCY        8950 non-null   float64\n",
      " 8   PURCHASES_INSTALLMENTS_FREQUENCY  8950 non-null   float64\n",
      " 9   CASH_ADVANCE_FREQUENCY            8950 non-null   float64\n",
      " 10  CASH_ADVANCE_TRX                  8950 non-null   int64  \n",
      " 11  PURCHASES_TRX                     8950 non-null   int64  \n",
      " 12  CREDIT_LIMIT                      8950 non-null   float64\n",
      " 13  PAYMENTS                          8950 non-null   float64\n",
      " 14  MINIMUM_PAYMENTS                  8950 non-null   float64\n",
      " 15  PRC_FULL_PAYMENT                  8950 non-null   float64\n",
      " 16  TENURE                            8950 non-null   int64  \n",
      "dtypes: float64(14), int64(3)\n",
      "memory usage: 1.2 MB\n"
     ]
    }
   ],
   "source": [
    "raw_df = pd.read_csv('CC GENERAL.csv')\n",
    "\n",
    "#data preprocessing\n",
    "raw_df.drop([\"CUST_ID\"], axis=1, inplace=True)\n",
    "raw_df.replace([np.inf, -np.inf], np.nan, inplace=True)\n",
    "raw_df[\"CREDIT_LIMIT\"].fillna(raw_df[\"CREDIT_LIMIT\"].mean(), inplace=True)\n",
    "raw_df[\"MINIMUM_PAYMENTS\"].fillna(raw_df[\"MINIMUM_PAYMENTS\"].mean(), inplace=True)\n",
    "raw_df.info()\n",
    "\n",
    "\n",
    "\n",
    "\n"
   ]
  },
  {
   "cell_type": "code",
   "execution_count": 41,
   "id": "tutorial-fancy",
   "metadata": {},
   "outputs": [],
   "source": [
    "X= raw_df[[\"PAYMENTS\", \"PURCHASES\"]]"
   ]
  },
  {
   "cell_type": "code",
   "execution_count": 20,
   "id": "careful-charge",
   "metadata": {},
   "outputs": [
    {
     "name": "stderr",
     "output_type": "stream",
     "text": [
      "<ipython-input-20-75c7c757020c>:4: SettingWithCopyWarning: \n",
      "A value is trying to be set on a copy of a slice from a DataFrame.\n",
      "Try using .loc[row_indexer,col_indexer] = value instead\n",
      "\n",
      "See the caveats in the documentation: https://pandas.pydata.org/pandas-docs/stable/user_guide/indexing.html#returning-a-view-versus-a-copy\n",
      "  X[\"labels\"] =model.labels_\n"
     ]
    },
    {
     "data": {
      "text/plain": [
       "{0, 1, 2}"
      ]
     },
     "execution_count": 20,
     "metadata": {},
     "output_type": "execute_result"
    }
   ],
   "source": [
    "\n",
    "model=AgglomerativeClustering(n_clusters=3 , affinity='euclidean', linkage='ward')\n",
    "model.fit_predict(X)\n",
    "model.labels_\n",
    "X[\"labels\"] =model.labels_ \n",
    "set(X[\"labels\"])\n",
    "\n"
   ]
  },
  {
   "cell_type": "code",
   "execution_count": 27,
   "id": "continued-laser",
   "metadata": {},
   "outputs": [
    {
     "data": {
      "text/plain": [
       "<matplotlib.collections.PathCollection at 0x7fe11cf782e0>"
      ]
     },
     "execution_count": 27,
     "metadata": {},
     "output_type": "execute_result"
    },
    {
     "data": {
      "image/png": "[encoded data removed]",
      "text/plain": [
       "<Figure size 432x288 with 1 Axes>"
      ]
     },
     "metadata": {
      "needs_background": "light"
     },
     "output_type": "display_data"
    }
   ],
   "source": [
    "\n",
    "plt.scatter(X[X[\"labels\"]==0][\"PAYMENTS\"], X[X[\"labels\"]==0][\"PURCHASES\"], c=[\"r\"])\n",
    "plt.scatter(X[X[\"labels\"]==1][\"PAYMENTS\"], X[X[\"labels\"]==1][\"PURCHASES\"], c=[\"g\"])\n",
    "plt.scatter(X[X[\"labels\"]==2][\"PAYMENTS\"], X[X[\"labels\"]==2][\"PURCHASES\"], c=[\"b\"])"
   ]
  },
  {
   "cell_type": "code",
   "execution_count": 31,
   "id": "recreational-extra",
   "metadata": {},
   "outputs": [
    {
     "data": {
      "image/png": "[encoded data removed]",
      "text/plain": [
       "<Figure size 720x504 with 1 Axes>"
      ]
     },
     "metadata": {
      "needs_background": "light"
     },
     "output_type": "display_data"
    }
   ],
   "source": [
    "plt.figure(figsize=(10,7))\n",
    "plt.title(\"Dendrograms\")\n",
    "dend=sch.dendrogram(sch.linkage(X, method=\"complete\"))#k=2\n"
   ]
  },
  {
   "cell_type": "code",
   "execution_count": 33,
   "id": "elder-window",
   "metadata": {},
   "outputs": [
    {
     "data": {
      "text/plain": [
       "KMeans(n_clusters=3, random_state=0)"
      ]
     },
     "execution_count": 33,
     "metadata": {},
     "output_type": "execute_result"
    }
   ],
   "source": [
    "from sklearn.cluster import KMeans  \n",
    "kmeans=KMeans(n_clusters=3, random_state=0)  \n",
    "kmeans.fit(X)"
   ]
  },
  {
   "cell_type": "code",
   "execution_count": 34,
   "id": "quality-imperial",
   "metadata": {},
   "outputs": [
    {
     "name": "stdout",
     "output_type": "stream",
     "text": [
      "      0\n",
      "0     0\n",
      "1     0\n",
      "2     0\n",
      "3     0\n",
      "4     0\n",
      "...  ..\n",
      "8945  0\n",
      "8946  0\n",
      "8947  0\n",
      "8948  0\n",
      "8949  0\n",
      "\n",
      "[8950 rows x 1 columns]\n",
      "[[1.04172353e+03 6.34827757e+02 9.99502054e-01]\n",
      " [2.77162862e+04 1.89092859e+04 1.17948718e+00]\n",
      " [6.90493989e+03 3.57818877e+03 3.87243736e-01]]\n"
     ]
    }
   ],
   "source": [
    "labels=pd.DataFrame(kmeans.labels_)\n",
    "print(labels)\n",
    "kmeans.predict(X)\n",
    "print(kmeans.cluster_centers_) "
   ]
  },
  {
   "cell_type": "code",
   "execution_count": 35,
   "id": "fabulous-edmonton",
   "metadata": {},
   "outputs": [
    {
     "name": "stderr",
     "output_type": "stream",
     "text": [
      "<ipython-input-35-d2a53b3a7f72>:1: SettingWithCopyWarning: \n",
      "A value is trying to be set on a copy of a slice from a DataFrame.\n",
      "Try using .loc[row_indexer,col_indexer] = value instead\n",
      "\n",
      "See the caveats in the documentation: https://pandas.pydata.org/pandas-docs/stable/user_guide/indexing.html#returning-a-view-versus-a-copy\n",
      "  X[\"labels\"]= labels\n"
     ]
    }
   ],
   "source": [
    "X[\"labels\"]= labels"
   ]
  },
  {
   "cell_type": "code",
   "execution_count": 36,
   "id": "informed-reserve",
   "metadata": {},
   "outputs": [
    {
     "data": {
      "text/plain": [
       "<matplotlib.collections.PathCollection at 0x7fe11cd8f5e0>"
      ]
     },
     "execution_count": 36,
     "metadata": {},
     "output_type": "execute_result"
    },
    {
     "data": {
      "image/png": "[encoded data removed]",
      "text/plain": [
       "<Figure size 432x288 with 1 Axes>"
      ]
     },
     "metadata": {
      "needs_background": "light"
     },
     "output_type": "display_data"
    }
   ],
   "source": [
    "\n",
    "plt.scatter(X[X[\"labels\"]==0][\"PAYMENTS\"], X[X[\"labels\"]==0][\"PURCHASES\"], c=[\"r\"])\n",
    "plt.scatter(X[X[\"labels\"]==1][\"PAYMENTS\"], X[X[\"labels\"]==1][\"PURCHASES\"], c=[\"g\"])\n",
    "plt.scatter(X[X[\"labels\"]==2][\"PAYMENTS\"], X[X[\"labels\"]==2][\"PURCHASES\"], c=[\"b\"])"
   ]
  },
  {
   "cell_type": "code",
   "execution_count": null,
   "id": "radio-darkness",
   "metadata": {},
   "outputs": [],
   "source": [
    "SSE=[]\n",
    "k = range(1,20)\n",
    "for x in k :\n",
    "    kmeans = KMeans(n_clusters = x)\n",
    "    kmeans = kmeans.fit(X)\n",
    "    SSE.append(kmeans.inertia_)"
   ]
  },
  {
   "cell_type": "code",
   "execution_count": null,
   "id": "hearing-sleep",
   "metadata": {},
   "outputs": [],
   "source": []
  }
 ],
 "metadata": {
  "kernelspec": {
   "display_name": "Python 3",
   "language": "python",
   "name": "python3"
  },
  "language_info": {
   "codemirror_mode": {
    "name": "ipython",
    "version": 3
   },
   "file_extension": ".py",
   "mimetype": "text/x-python",
   "name": "python",
   "nbconvert_exporter": "python",
   "pygments_lexer": "ipython3",
   "version": "3.9.5"
  }
 },
 "nbformat": 4,
 "nbformat_minor": 5
}
